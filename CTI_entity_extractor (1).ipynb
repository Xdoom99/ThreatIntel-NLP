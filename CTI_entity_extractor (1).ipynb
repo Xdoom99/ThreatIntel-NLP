{
  "cells": [
    {
      "cell_type": "code",
      "execution_count": null,
      "metadata": {
        "colab": {
          "base_uri": "https://localhost:8080/"
        },
        "id": "cooNlFp36oIv",
        "outputId": "9e2d241f-ce7d-41de-bf44-4a7f25b14ac2"
      },
      "outputs": [
        {
          "name": "stdout",
          "output_type": "stream",
          "text": [
            "Requirement already satisfied: spacy in /usr/local/lib/python3.11/dist-packages (3.8.7)\n",
            "Requirement already satisfied: spacy-legacy<3.1.0,>=3.0.11 in /usr/local/lib/python3.11/dist-packages (from spacy) (3.0.12)\n",
            "Requirement already satisfied: spacy-loggers<2.0.0,>=1.0.0 in /usr/local/lib/python3.11/dist-packages (from spacy) (1.0.5)\n",
            "Requirement already satisfied: murmurhash<1.1.0,>=0.28.0 in /usr/local/lib/python3.11/dist-packages (from spacy) (1.0.13)\n",
            "Requirement already satisfied: cymem<2.1.0,>=2.0.2 in /usr/local/lib/python3.11/dist-packages (from spacy) (2.0.11)\n",
            "Requirement already satisfied: preshed<3.1.0,>=3.0.2 in /usr/local/lib/python3.11/dist-packages (from spacy) (3.0.10)\n",
            "Requirement already satisfied: thinc<8.4.0,>=8.3.4 in /usr/local/lib/python3.11/dist-packages (from spacy) (8.3.6)\n",
            "Requirement already satisfied: wasabi<1.2.0,>=0.9.1 in /usr/local/lib/python3.11/dist-packages (from spacy) (1.1.3)\n",
            "Requirement already satisfied: srsly<3.0.0,>=2.4.3 in /usr/local/lib/python3.11/dist-packages (from spacy) (2.5.1)\n",
            "Requirement already satisfied: catalogue<2.1.0,>=2.0.6 in /usr/local/lib/python3.11/dist-packages (from spacy) (2.0.10)\n",
            "Requirement already satisfied: weasel<0.5.0,>=0.1.0 in /usr/local/lib/python3.11/dist-packages (from spacy) (0.4.1)\n",
            "Requirement already satisfied: typer<1.0.0,>=0.3.0 in /usr/local/lib/python3.11/dist-packages (from spacy) (0.16.0)\n",
            "Requirement already satisfied: tqdm<5.0.0,>=4.38.0 in /usr/local/lib/python3.11/dist-packages (from spacy) (4.67.1)\n",
            "Requirement already satisfied: numpy>=1.19.0 in /usr/local/lib/python3.11/dist-packages (from spacy) (2.0.2)\n",
            "Requirement already satisfied: requests<3.0.0,>=2.13.0 in /usr/local/lib/python3.11/dist-packages (from spacy) (2.32.3)\n",
            "Requirement already satisfied: pydantic!=1.8,!=1.8.1,<3.0.0,>=1.7.4 in /usr/local/lib/python3.11/dist-packages (from spacy) (2.11.7)\n",
            "Requirement already satisfied: jinja2 in /usr/local/lib/python3.11/dist-packages (from spacy) (3.1.6)\n",
            "Requirement already satisfied: setuptools in /usr/local/lib/python3.11/dist-packages (from spacy) (75.2.0)\n",
            "Requirement already satisfied: packaging>=20.0 in /usr/local/lib/python3.11/dist-packages (from spacy) (25.0)\n",
            "Requirement already satisfied: langcodes<4.0.0,>=3.2.0 in /usr/local/lib/python3.11/dist-packages (from spacy) (3.5.0)\n",
            "Requirement already satisfied: language-data>=1.2 in /usr/local/lib/python3.11/dist-packages (from langcodes<4.0.0,>=3.2.0->spacy) (1.3.0)\n",
            "Requirement already satisfied: annotated-types>=0.6.0 in /usr/local/lib/python3.11/dist-packages (from pydantic!=1.8,!=1.8.1,<3.0.0,>=1.7.4->spacy) (0.7.0)\n",
            "Requirement already satisfied: pydantic-core==2.33.2 in /usr/local/lib/python3.11/dist-packages (from pydantic!=1.8,!=1.8.1,<3.0.0,>=1.7.4->spacy) (2.33.2)\n",
            "Requirement already satisfied: typing-extensions>=4.12.2 in /usr/local/lib/python3.11/dist-packages (from pydantic!=1.8,!=1.8.1,<3.0.0,>=1.7.4->spacy) (4.14.1)\n",
            "Requirement already satisfied: typing-inspection>=0.4.0 in /usr/local/lib/python3.11/dist-packages (from pydantic!=1.8,!=1.8.1,<3.0.0,>=1.7.4->spacy) (0.4.1)\n",
            "Requirement already satisfied: charset-normalizer<4,>=2 in /usr/local/lib/python3.11/dist-packages (from requests<3.0.0,>=2.13.0->spacy) (3.4.2)\n",
            "Requirement already satisfied: idna<4,>=2.5 in /usr/local/lib/python3.11/dist-packages (from requests<3.0.0,>=2.13.0->spacy) (3.10)\n",
            "Requirement already satisfied: urllib3<3,>=1.21.1 in /usr/local/lib/python3.11/dist-packages (from requests<3.0.0,>=2.13.0->spacy) (2.5.0)\n",
            "Requirement already satisfied: certifi>=2017.4.17 in /usr/local/lib/python3.11/dist-packages (from requests<3.0.0,>=2.13.0->spacy) (2025.7.14)\n",
            "Requirement already satisfied: blis<1.4.0,>=1.3.0 in /usr/local/lib/python3.11/dist-packages (from thinc<8.4.0,>=8.3.4->spacy) (1.3.0)\n",
            "Requirement already satisfied: confection<1.0.0,>=0.0.1 in /usr/local/lib/python3.11/dist-packages (from thinc<8.4.0,>=8.3.4->spacy) (0.1.5)\n",
            "Requirement already satisfied: click>=8.0.0 in /usr/local/lib/python3.11/dist-packages (from typer<1.0.0,>=0.3.0->spacy) (8.2.1)\n",
            "Requirement already satisfied: shellingham>=1.3.0 in /usr/local/lib/python3.11/dist-packages (from typer<1.0.0,>=0.3.0->spacy) (1.5.4)\n",
            "Requirement already satisfied: rich>=10.11.0 in /usr/local/lib/python3.11/dist-packages (from typer<1.0.0,>=0.3.0->spacy) (13.9.4)\n",
            "Requirement already satisfied: cloudpathlib<1.0.0,>=0.7.0 in /usr/local/lib/python3.11/dist-packages (from weasel<0.5.0,>=0.1.0->spacy) (0.21.1)\n",
            "Requirement already satisfied: smart-open<8.0.0,>=5.2.1 in /usr/local/lib/python3.11/dist-packages (from weasel<0.5.0,>=0.1.0->spacy) (7.3.0.post1)\n",
            "Requirement already satisfied: MarkupSafe>=2.0 in /usr/local/lib/python3.11/dist-packages (from jinja2->spacy) (3.0.2)\n",
            "Requirement already satisfied: marisa-trie>=1.1.0 in /usr/local/lib/python3.11/dist-packages (from language-data>=1.2->langcodes<4.0.0,>=3.2.0->spacy) (1.2.1)\n",
            "Requirement already satisfied: markdown-it-py>=2.2.0 in /usr/local/lib/python3.11/dist-packages (from rich>=10.11.0->typer<1.0.0,>=0.3.0->spacy) (3.0.0)\n",
            "Requirement already satisfied: pygments<3.0.0,>=2.13.0 in /usr/local/lib/python3.11/dist-packages (from rich>=10.11.0->typer<1.0.0,>=0.3.0->spacy) (2.19.2)\n",
            "Requirement already satisfied: wrapt in /usr/local/lib/python3.11/dist-packages (from smart-open<8.0.0,>=5.2.1->weasel<0.5.0,>=0.1.0->spacy) (1.17.2)\n",
            "Requirement already satisfied: mdurl~=0.1 in /usr/local/lib/python3.11/dist-packages (from markdown-it-py>=2.2.0->rich>=10.11.0->typer<1.0.0,>=0.3.0->spacy) (0.1.2)\n",
            "Collecting en-core-web-sm==3.8.0\n",
            "  Downloading https://github.com/explosion/spacy-models/releases/download/en_core_web_sm-3.8.0/en_core_web_sm-3.8.0-py3-none-any.whl (12.8 MB)\n",
            "\u001b[2K     \u001b[90m━━━━━━━━━━━━━━━━━━━━━━━━━━━━━━━━━━━━━━━━\u001b[0m \u001b[32m12.8/12.8 MB\u001b[0m \u001b[31m85.2 MB/s\u001b[0m eta \u001b[36m0:00:00\u001b[0m\n",
            "\u001b[?25h\u001b[38;5;2m✔ Download and installation successful\u001b[0m\n",
            "You can now load the package via spacy.load('en_core_web_sm')\n",
            "\u001b[38;5;3m⚠ Restart to reload dependencies\u001b[0m\n",
            "If you are in a Jupyter or Colab notebook, you may need to restart Python in\n",
            "order to load all the package's dependencies. You can do this by selecting the\n",
            "'Restart kernel' or 'Restart runtime' option.\n",
            "Requirement already satisfied: transformers in /usr/local/lib/python3.11/dist-packages (4.54.1)\n",
            "Requirement already satisfied: filelock in /usr/local/lib/python3.11/dist-packages (from transformers) (3.18.0)\n",
            "Requirement already satisfied: huggingface-hub<1.0,>=0.34.0 in /usr/local/lib/python3.11/dist-packages (from transformers) (0.34.1)\n",
            "Requirement already satisfied: numpy>=1.17 in /usr/local/lib/python3.11/dist-packages (from transformers) (2.0.2)\n",
            "Requirement already satisfied: packaging>=20.0 in /usr/local/lib/python3.11/dist-packages (from transformers) (25.0)\n",
            "Requirement already satisfied: pyyaml>=5.1 in /usr/local/lib/python3.11/dist-packages (from transformers) (6.0.2)\n",
            "Requirement already satisfied: regex!=2019.12.17 in /usr/local/lib/python3.11/dist-packages (from transformers) (2024.11.6)\n",
            "Requirement already satisfied: requests in /usr/local/lib/python3.11/dist-packages (from transformers) (2.32.3)\n",
            "Requirement already satisfied: tokenizers<0.22,>=0.21 in /usr/local/lib/python3.11/dist-packages (from transformers) (0.21.2)\n",
            "Requirement already satisfied: safetensors>=0.4.3 in /usr/local/lib/python3.11/dist-packages (from transformers) (0.5.3)\n",
            "Requirement already satisfied: tqdm>=4.27 in /usr/local/lib/python3.11/dist-packages (from transformers) (4.67.1)\n",
            "Requirement already satisfied: fsspec>=2023.5.0 in /usr/local/lib/python3.11/dist-packages (from huggingface-hub<1.0,>=0.34.0->transformers) (2025.3.0)\n",
            "Requirement already satisfied: typing-extensions>=3.7.4.3 in /usr/local/lib/python3.11/dist-packages (from huggingface-hub<1.0,>=0.34.0->transformers) (4.14.1)\n",
            "Requirement already satisfied: hf-xet<2.0.0,>=1.1.3 in /usr/local/lib/python3.11/dist-packages (from huggingface-hub<1.0,>=0.34.0->transformers) (1.1.5)\n",
            "Requirement already satisfied: charset-normalizer<4,>=2 in /usr/local/lib/python3.11/dist-packages (from requests->transformers) (3.4.2)\n",
            "Requirement already satisfied: idna<4,>=2.5 in /usr/local/lib/python3.11/dist-packages (from requests->transformers) (3.10)\n",
            "Requirement already satisfied: urllib3<3,>=1.21.1 in /usr/local/lib/python3.11/dist-packages (from requests->transformers) (2.5.0)\n",
            "Requirement already satisfied: certifi>=2017.4.17 in /usr/local/lib/python3.11/dist-packages (from requests->transformers) (2025.7.14)\n"
          ]
        }
      ],
      "source": [
        "!pip install -U spacy\n",
        "!python -m spacy download en_core_web_sm\n",
        "!pip install -U transformers\n"
      ]
    },
    {
      "cell_type": "code",
      "execution_count": null,
      "metadata": {
        "id": "IBAluRVL7ijd"
      },
      "outputs": [],
      "source": [
        "threat_text = \"\"\"\n",
        "On July 25, 2024, APT29 initiated a new malware campaign using a modified version of Cobalt Strike.\n",
        "The malware connects to 198.51.100.23 and downloads additional payloads.\n",
        "Indicators include SHA256: d41d8cd98f00b204e9800998ecf8427e and domains like badsite.ru.\n",
        "The attack exploited CVE-2024-12345, a critical RCE vulnerability in Outlook.\n",
        "\"\"\"\n"
      ]
    },
    {
      "cell_type": "code",
      "execution_count": null,
      "metadata": {
        "colab": {
          "base_uri": "https://localhost:8080/"
        },
        "id": "kyPyzJUM8RAI",
        "outputId": "d86735e8-e405-4105-f43f-65873c248773"
      },
      "outputs": [
        {
          "name": "stdout",
          "output_type": "stream",
          "text": [
            "📍 Named Entities Found:\n",
            "July 25, 2024 → DATE\n",
            "Cobalt Strike → GPE\n",
            "198.51.100.23 → CARDINAL\n",
            "CVE-2024-12345 → PRODUCT\n",
            "Outlook. → GPE\n"
          ]
        }
      ],
      "source": [
        "import spacy\n",
        "\n",
        "nlp = spacy.load(\"en_core_web_sm\")\n",
        "doc = nlp(threat_text)\n",
        "\n",
        "print(\"📍 Named Entities Found:\")\n",
        "for ent in doc.ents:\n",
        "    print(f\"{ent.text} → {ent.label_}\")\n"
      ]
    },
    {
      "cell_type": "code",
      "execution_count": null,
      "metadata": {
        "colab": {
          "base_uri": "https://localhost:8080/"
        },
        "id": "ERa190Qy8SRg",
        "outputId": "83dfdfa8-ade8-46e2-c951-cb82b939efb3"
      },
      "outputs": [
        {
          "name": "stdout",
          "output_type": "stream",
          "text": [
            "🔐 IP_ADDRESS: ['198.51.100.23']\n",
            "🔐 HASH: ['d41d8cd98f00b204e9800998ecf8427e']\n",
            "🔐 CVE: ['CVE-2024-12345']\n",
            "🔐 DOMAIN: ['badsite.ru']\n"
          ]
        }
      ],
      "source": [
        "import re\n",
        "\n",
        "def extract_custom_indicators(text):\n",
        "    ip_pattern = r\"\\b(?:[0-9]{1,3}\\.){3}[0-9]{1,3}\\b\"\n",
        "    hash_pattern = r\"\\b[a-fA-F0-9]{32,64}\\b\"\n",
        "    cve_pattern = r\"CVE-\\d{4}-\\d{4,7}\"\n",
        "    domain_pattern = r\"\\b(?:[\\w-]+\\.)+[a-z]{2,}\\b\"\n",
        "\n",
        "    return {\n",
        "        \"IP_ADDRESS\": re.findall(ip_pattern, text),\n",
        "        \"HASH\": re.findall(hash_pattern, text),\n",
        "        \"CVE\": re.findall(cve_pattern, text),\n",
        "        \"DOMAIN\": re.findall(domain_pattern, text)\n",
        "    }\n",
        "\n",
        "custom_entities = extract_custom_indicators(threat_text)\n",
        "\n",
        "for label, matches in custom_entities.items():\n",
        "    print(f\"🔐 {label}: {matches}\")\n"
      ]
    },
    {
      "cell_type": "code",
      "execution_count": null,
      "metadata": {
        "colab": {
          "base_uri": "https://localhost:8080/"
        },
        "id": "K5iwE_hK8UsV",
        "outputId": "cc9074a5-081c-40d1-b270-71fdb343c939"
      },
      "outputs": [
        {
          "name": "stdout",
          "output_type": "stream",
          "text": [
            "📦 Final Entity Extraction:\n",
            "\n",
            "July 25, 2024 → DATE\n",
            "Cobalt Strike → GPE\n",
            "198.51.100.23 → CARDINAL\n",
            "CVE-2024-12345 → PRODUCT\n",
            "Outlook. → GPE\n",
            "198.51.100.23 → IP_ADDRESS\n",
            "d41d8cd98f00b204e9800998ecf8427e → HASH\n",
            "CVE-2024-12345 → CVE\n",
            "badsite.ru → DOMAIN\n"
          ]
        }
      ],
      "source": [
        "print(\"📦 Final Entity Extraction:\\n\")\n",
        "\n",
        "# SpaCy Entities\n",
        "for ent in doc.ents:\n",
        "    print(f\"{ent.text} → {ent.label_}\")\n",
        "\n",
        "# Custom Entities\n",
        "for label, matches in custom_entities.items():\n",
        "    for match in matches:\n",
        "        print(f\"{match} → {label}\")\n"
      ]
    },
    {
      "cell_type": "code",
      "execution_count": null,
      "metadata": {
        "colab": {
          "base_uri": "https://localhost:8080/"
        },
        "id": "63C89iZr8XTO",
        "outputId": "5008a511-cfa1-4689-9233-7fb7f4e16630"
      },
      "outputs": [
        {
          "name": "stdout",
          "output_type": "stream",
          "text": [
            "Requirement already satisfied: feedparser in /usr/local/lib/python3.11/dist-packages (6.0.11)\n",
            "Requirement already satisfied: newspaper3k in /usr/local/lib/python3.11/dist-packages (0.2.8)\n",
            "Requirement already satisfied: sgmllib3k in /usr/local/lib/python3.11/dist-packages (from feedparser) (1.0.0)\n",
            "Requirement already satisfied: beautifulsoup4>=4.4.1 in /usr/local/lib/python3.11/dist-packages (from newspaper3k) (4.13.4)\n",
            "Requirement already satisfied: Pillow>=3.3.0 in /usr/local/lib/python3.11/dist-packages (from newspaper3k) (11.3.0)\n",
            "Requirement already satisfied: PyYAML>=3.11 in /usr/local/lib/python3.11/dist-packages (from newspaper3k) (6.0.2)\n",
            "Requirement already satisfied: cssselect>=0.9.2 in /usr/local/lib/python3.11/dist-packages (from newspaper3k) (1.3.0)\n",
            "Requirement already satisfied: lxml>=3.6.0 in /usr/local/lib/python3.11/dist-packages (from newspaper3k) (5.4.0)\n",
            "Requirement already satisfied: nltk>=3.2.1 in /usr/local/lib/python3.11/dist-packages (from newspaper3k) (3.9.1)\n",
            "Requirement already satisfied: requests>=2.10.0 in /usr/local/lib/python3.11/dist-packages (from newspaper3k) (2.32.3)\n",
            "Requirement already satisfied: tldextract>=2.0.1 in /usr/local/lib/python3.11/dist-packages (from newspaper3k) (5.3.0)\n",
            "Requirement already satisfied: feedfinder2>=0.0.4 in /usr/local/lib/python3.11/dist-packages (from newspaper3k) (0.0.4)\n",
            "Requirement already satisfied: jieba3k>=0.35.1 in /usr/local/lib/python3.11/dist-packages (from newspaper3k) (0.35.1)\n",
            "Requirement already satisfied: python-dateutil>=2.5.3 in /usr/local/lib/python3.11/dist-packages (from newspaper3k) (2.9.0.post0)\n",
            "Requirement already satisfied: tinysegmenter==0.3 in /usr/local/lib/python3.11/dist-packages (from newspaper3k) (0.3)\n",
            "Requirement already satisfied: soupsieve>1.2 in /usr/local/lib/python3.11/dist-packages (from beautifulsoup4>=4.4.1->newspaper3k) (2.7)\n",
            "Requirement already satisfied: typing-extensions>=4.0.0 in /usr/local/lib/python3.11/dist-packages (from beautifulsoup4>=4.4.1->newspaper3k) (4.14.1)\n",
            "Requirement already satisfied: six in /usr/local/lib/python3.11/dist-packages (from feedfinder2>=0.0.4->newspaper3k) (1.17.0)\n",
            "Requirement already satisfied: click in /usr/local/lib/python3.11/dist-packages (from nltk>=3.2.1->newspaper3k) (8.2.1)\n",
            "Requirement already satisfied: joblib in /usr/local/lib/python3.11/dist-packages (from nltk>=3.2.1->newspaper3k) (1.5.1)\n",
            "Requirement already satisfied: regex>=2021.8.3 in /usr/local/lib/python3.11/dist-packages (from nltk>=3.2.1->newspaper3k) (2024.11.6)\n",
            "Requirement already satisfied: tqdm in /usr/local/lib/python3.11/dist-packages (from nltk>=3.2.1->newspaper3k) (4.67.1)\n",
            "Requirement already satisfied: charset-normalizer<4,>=2 in /usr/local/lib/python3.11/dist-packages (from requests>=2.10.0->newspaper3k) (3.4.2)\n",
            "Requirement already satisfied: idna<4,>=2.5 in /usr/local/lib/python3.11/dist-packages (from requests>=2.10.0->newspaper3k) (3.10)\n",
            "Requirement already satisfied: urllib3<3,>=1.21.1 in /usr/local/lib/python3.11/dist-packages (from requests>=2.10.0->newspaper3k) (2.5.0)\n",
            "Requirement already satisfied: certifi>=2017.4.17 in /usr/local/lib/python3.11/dist-packages (from requests>=2.10.0->newspaper3k) (2025.7.14)\n",
            "Requirement already satisfied: requests-file>=1.4 in /usr/local/lib/python3.11/dist-packages (from tldextract>=2.0.1->newspaper3k) (2.1.0)\n",
            "Requirement already satisfied: filelock>=3.0.8 in /usr/local/lib/python3.11/dist-packages (from tldextract>=2.0.1->newspaper3k) (3.18.0)\n"
          ]
        }
      ],
      "source": [
        "!pip install feedparser newspaper3k\n"
      ]
    },
    {
      "cell_type": "code",
      "execution_count": null,
      "metadata": {
        "colab": {
          "base_uri": "https://localhost:8080/"
        },
        "id": "atvj7wTI_OYe",
        "outputId": "539d61b8-24ae-4414-f648-7e30d421219c"
      },
      "outputs": [
        {
          "name": "stdout",
          "output_type": "stream",
          "text": [
            "Requirement already satisfied: newspaper3k in /usr/local/lib/python3.11/dist-packages (0.2.8)\n",
            "Requirement already satisfied: beautifulsoup4>=4.4.1 in /usr/local/lib/python3.11/dist-packages (from newspaper3k) (4.13.4)\n",
            "Requirement already satisfied: Pillow>=3.3.0 in /usr/local/lib/python3.11/dist-packages (from newspaper3k) (11.3.0)\n",
            "Requirement already satisfied: PyYAML>=3.11 in /usr/local/lib/python3.11/dist-packages (from newspaper3k) (6.0.2)\n",
            "Requirement already satisfied: cssselect>=0.9.2 in /usr/local/lib/python3.11/dist-packages (from newspaper3k) (1.3.0)\n",
            "Requirement already satisfied: lxml>=3.6.0 in /usr/local/lib/python3.11/dist-packages (from newspaper3k) (5.4.0)\n",
            "Requirement already satisfied: nltk>=3.2.1 in /usr/local/lib/python3.11/dist-packages (from newspaper3k) (3.9.1)\n",
            "Requirement already satisfied: requests>=2.10.0 in /usr/local/lib/python3.11/dist-packages (from newspaper3k) (2.32.3)\n",
            "Requirement already satisfied: feedparser>=5.2.1 in /usr/local/lib/python3.11/dist-packages (from newspaper3k) (6.0.11)\n",
            "Requirement already satisfied: tldextract>=2.0.1 in /usr/local/lib/python3.11/dist-packages (from newspaper3k) (5.3.0)\n",
            "Requirement already satisfied: feedfinder2>=0.0.4 in /usr/local/lib/python3.11/dist-packages (from newspaper3k) (0.0.4)\n",
            "Requirement already satisfied: jieba3k>=0.35.1 in /usr/local/lib/python3.11/dist-packages (from newspaper3k) (0.35.1)\n",
            "Requirement already satisfied: python-dateutil>=2.5.3 in /usr/local/lib/python3.11/dist-packages (from newspaper3k) (2.9.0.post0)\n",
            "Requirement already satisfied: tinysegmenter==0.3 in /usr/local/lib/python3.11/dist-packages (from newspaper3k) (0.3)\n",
            "Requirement already satisfied: soupsieve>1.2 in /usr/local/lib/python3.11/dist-packages (from beautifulsoup4>=4.4.1->newspaper3k) (2.7)\n",
            "Requirement already satisfied: typing-extensions>=4.0.0 in /usr/local/lib/python3.11/dist-packages (from beautifulsoup4>=4.4.1->newspaper3k) (4.14.1)\n",
            "Requirement already satisfied: six in /usr/local/lib/python3.11/dist-packages (from feedfinder2>=0.0.4->newspaper3k) (1.17.0)\n",
            "Requirement already satisfied: sgmllib3k in /usr/local/lib/python3.11/dist-packages (from feedparser>=5.2.1->newspaper3k) (1.0.0)\n",
            "Requirement already satisfied: click in /usr/local/lib/python3.11/dist-packages (from nltk>=3.2.1->newspaper3k) (8.2.1)\n",
            "Requirement already satisfied: joblib in /usr/local/lib/python3.11/dist-packages (from nltk>=3.2.1->newspaper3k) (1.5.1)\n",
            "Requirement already satisfied: regex>=2021.8.3 in /usr/local/lib/python3.11/dist-packages (from nltk>=3.2.1->newspaper3k) (2024.11.6)\n",
            "Requirement already satisfied: tqdm in /usr/local/lib/python3.11/dist-packages (from nltk>=3.2.1->newspaper3k) (4.67.1)\n",
            "Requirement already satisfied: charset-normalizer<4,>=2 in /usr/local/lib/python3.11/dist-packages (from requests>=2.10.0->newspaper3k) (3.4.2)\n",
            "Requirement already satisfied: idna<4,>=2.5 in /usr/local/lib/python3.11/dist-packages (from requests>=2.10.0->newspaper3k) (3.10)\n",
            "Requirement already satisfied: urllib3<3,>=1.21.1 in /usr/local/lib/python3.11/dist-packages (from requests>=2.10.0->newspaper3k) (2.5.0)\n",
            "Requirement already satisfied: certifi>=2017.4.17 in /usr/local/lib/python3.11/dist-packages (from requests>=2.10.0->newspaper3k) (2025.7.14)\n",
            "Requirement already satisfied: requests-file>=1.4 in /usr/local/lib/python3.11/dist-packages (from tldextract>=2.0.1->newspaper3k) (2.1.0)\n",
            "Requirement already satisfied: filelock>=3.0.8 in /usr/local/lib/python3.11/dist-packages (from tldextract>=2.0.1->newspaper3k) (3.18.0)\n",
            "Requirement already satisfied: lxml[html_clean] in /usr/local/lib/python3.11/dist-packages (5.4.0)\n",
            "Requirement already satisfied: lxml_html_clean in /usr/local/lib/python3.11/dist-packages (from lxml[html_clean]) (0.4.2)\n"
          ]
        }
      ],
      "source": [
        "!pip install newspaper3k --upgrade\n",
        "!pip install lxml[html_clean]\n"
      ]
    },
    {
      "cell_type": "code",
      "execution_count": null,
      "metadata": {
        "id": "_dc71m5V-Tc3"
      },
      "outputs": [],
      "source": [
        "import feedparser\n",
        "from newspaper import Article\n",
        "\n",
        "def get_articles_from_rss(rss_url, limit=3):\n",
        "    feed = feedparser.parse(rss_url)\n",
        "    articles = []\n",
        "\n",
        "    for entry in feed.entries[:limit]:\n",
        "        try:\n",
        "            a = Article(entry.link)\n",
        "            a.download()\n",
        "            a.parse()\n",
        "            articles.append({\n",
        "                \"title\": entry.title,\n",
        "                \"link\": entry.link,\n",
        "                \"text\": a.text\n",
        "            })\n",
        "        except Exception as e:\n",
        "            print(f\"❌ Error fetching article: {entry.link}\\n{e}\")\n",
        "\n",
        "    return articles\n"
      ]
    },
    {
      "cell_type": "code",
      "execution_count": null,
      "metadata": {
        "id": "lEYY0BZb-y4q"
      },
      "outputs": [],
      "source": [
        "rss_url = \"https://threatpost.com/feed/\"\n",
        "articles = get_articles_from_rss(rss_url, limit=2)  # Increase limit if needed\n"
      ]
    },
    {
      "cell_type": "code",
      "execution_count": null,
      "metadata": {
        "colab": {
          "base_uri": "https://localhost:8080/"
        },
        "id": "gdyBFzBq_XTQ",
        "outputId": "0032fb77-9589-48d2-fe4c-d1df14228129"
      },
      "outputs": [
        {
          "name": "stdout",
          "output_type": "stream",
          "text": [
            "\n",
            "📰 Student Loan Breach Exposes 2.5M Records\n",
            "🔗 https://threatpost.com/student-loan-breach-exposes-2-5m-records/180492/\n",
            "\n",
            "📦 Final Entity Extraction:\n",
            "\n",
            "2.5 million → CARDINAL\n",
            "the Oklahoma Student Loan Authority → ORG\n",
            "over 2.5 million → CARDINAL\n",
            "Nelnet Servicing → ORG\n",
            "Lincoln → ORG\n",
            "Neb.-based → CARDINAL\n",
            "OSLA → ORG\n",
            "EdFinancial → ORG\n",
            "July 21, 2022 → DATE\n",
            "third → ORDINAL\n",
            "August 17th → DATE\n",
            "2,501,324 → CARDINAL\n",
            "Nelnet → ORG\n",
            "Bill Munn → PERSON\n",
            "Maine → GPE\n",
            "2022 → DATE\n",
            "July 22, 2022 → DATE\n",
            "July 21 → DATE\n",
            "August 17, 2022 → DATE\n",
            "July 21, 2022 → DATE\n",
            "Nelnet Servicing → ORG\n",
            "LLC → ORG\n",
            "Nelnet → ORG\n",
            "August 17, 2022 → DATE\n",
            "June 2022 → DATE\n",
            "July 22, 2022 → DATE\n",
            "Nelnet → ORG\n",
            "Melissa Bischoping → PERSON\n",
            "Tanium → ORG\n",
            "Last week → DATE\n",
            "Biden → PERSON\n",
            "10,000 → MONEY\n",
            "Nelnet Servicing → ORG\n",
            "Nelnet Servicing’s → ORG\n",
            "third → ORDINAL\n",
            "two years → DATE\n",
            "up to $1 million → MONEY\n",
            "\n",
            "📰 Watering Hole Attacks Push ScanBox Keylogger\n",
            "🔗 https://threatpost.com/watering-hole-attacks-push-scanbox-keylogger/180490/\n",
            "\n",
            "📦 Final Entity Extraction:\n",
            "\n",
            "APT TA423 → ORG\n",
            "ScanBox → PERSON\n",
            "JavaScript → PRODUCT\n",
            "China → GPE\n",
            "ScanBox → PERSON\n",
            "Australian → NORP\n",
            "the South China Sea → LOC\n",
            "APT → ORG\n",
            "Australian → NORP\n",
            "April 2022 → DATE\n",
            "mid-June 2022 → DATE\n",
            "Tuesday → DATE\n",
            "Proofpoint’s Threat Research Team → ORG\n",
            "China → GPE\n",
            "APT TA423 → ORG\n",
            "Red Ladon → ORG\n",
            "TA423 / Red Ladon → ORG\n",
            "Hainan Island → GPE\n",
            "China → GPE\n",
            "APT → ORG\n",
            "2021 → CARDINAL\n",
            "the US Department of Justice → ORG\n",
            "TA423 / Red Ladon → ORG\n",
            "the Hainan Province Ministry of State Security → ORG\n",
            "MSS → ORG\n",
            "MSS → ORG\n",
            "the People’s Republic of China → GPE\n",
            "China → GPE\n",
            "Dusting Off → PERSON\n",
            "ScanBox → ORG\n",
            "ScanBox → PERSON\n",
            "ScanBox → PERSON\n",
            "Javascript → PERSON\n",
            "ScanBox → PERSON\n",
            "nearly a decade → DATE\n",
            "ScanBox → PERSON\n",
            "JavaScript → ORG\n",
            "PwC → ORG\n",
            "ScanBox → ORG\n",
            "JavaScript → ORG\n",
            "ScanBox → ORG\n",
            "TA423 → PRODUCT\n",
            "Sick Leave → WORK_OF_ART\n",
            "Request Cooperation → WORK_OF_ART\n",
            "the “Australian Morning News → EVENT\n",
            "ScanBox → PERSON\n",
            "BBC → ORG\n",
            "Sky News → ORG\n",
            "ScanBox → PERSON\n",
            "ScanBox → PERSON\n",
            "Adobe Flash → ORG\n",
            "ScanBox → PERSON\n",
            "WebRTC → LOC\n",
            "WebRTC → LOC\n",
            "RTC → ORG\n",
            "ScanBox → PERSON\n",
            "STUN → ORG\n",
            "NAT → ORG\n",
            "NAT → ORG\n",
            "STUN → ORG\n",
            "WebRTC → LOC\n",
            "third → ORDINAL\n",
            "STUN → ORG\n",
            "NAT → ORG\n",
            "IP → ORG\n",
            "NAT → ORG\n",
            "UDP → ORG\n",
            "ScanBox → PERSON\n",
            "NAT → ORG\n",
            "STUN → ORG\n",
            "Interactive Connectivity Establishment → ORG\n",
            "ScanBox → PERSON\n",
            "STUN → ORG\n",
            "NAT → ORG\n",
            "Chinese → NORP\n",
            "the South China Sea → LOC\n",
            "Taiwan → GPE\n",
            "Sherrod DeGrippo → PERSON\n",
            "Proofpoint → GPE\n",
            "Malaysia → GPE\n",
            "Singapore → GPE\n",
            "Taiwan → GPE\n",
            "Australia → GPE\n",
            "Australasia → GPE\n",
            "Department of Justice → ORG\n",
            "July → DATE\n",
            "2021 → DATE\n",
            "the United States → GPE\n",
            "Austria → GPE\n",
            "Cambodia → GPE\n",
            "Canada → GPE\n",
            "Germany → GPE\n",
            "Indonesia → GPE\n",
            "Malaysia → GPE\n",
            "Norway → GPE\n",
            "Saudi Arabia → GPE\n",
            "South Africa → GPE\n",
            "Switzerland → GPE\n",
            "the United Kingdom → GPE\n",
            "DoJ → ORG\n",
            "TA423 → PRODUCT\n",
            "TA423 / Red Ladon → ORG\n"
          ]
        }
      ],
      "source": [
        "for article in articles:\n",
        "    print(f\"\\n📰 {article['title']}\")\n",
        "    print(f\"🔗 {article['link']}\\n\")\n",
        "\n",
        "    text = article['text']\n",
        "    doc = nlp(text)\n",
        "    custom_entities = extract_custom_indicators(text)\n",
        "\n",
        "    print(\"📦 Final Entity Extraction:\\n\")\n",
        "    for ent in doc.ents:\n",
        "        print(f\"{ent.text} → {ent.label_}\")\n",
        "    for label, matches in custom_entities.items():\n",
        "        for match in matches:\n",
        "            print(f\"{match} → {label}\")\n"
      ]
    },
    {
      "cell_type": "code",
      "execution_count": null,
      "metadata": {
        "colab": {
          "base_uri": "https://localhost:8080/"
        },
        "id": "_ienImlL_zKT",
        "outputId": "306eec8f-802a-4d37-98f6-c85791ca4793"
      },
      "outputs": [
        {
          "name": "stdout",
          "output_type": "stream",
          "text": [
            "Requirement already satisfied: openai in /usr/local/lib/python3.11/dist-packages (1.97.1)\n",
            "Requirement already satisfied: anyio<5,>=3.5.0 in /usr/local/lib/python3.11/dist-packages (from openai) (4.9.0)\n",
            "Requirement already satisfied: distro<2,>=1.7.0 in /usr/local/lib/python3.11/dist-packages (from openai) (1.9.0)\n",
            "Requirement already satisfied: httpx<1,>=0.23.0 in /usr/local/lib/python3.11/dist-packages (from openai) (0.28.1)\n",
            "Requirement already satisfied: jiter<1,>=0.4.0 in /usr/local/lib/python3.11/dist-packages (from openai) (0.10.0)\n",
            "Requirement already satisfied: pydantic<3,>=1.9.0 in /usr/local/lib/python3.11/dist-packages (from openai) (2.11.7)\n",
            "Requirement already satisfied: sniffio in /usr/local/lib/python3.11/dist-packages (from openai) (1.3.1)\n",
            "Requirement already satisfied: tqdm>4 in /usr/local/lib/python3.11/dist-packages (from openai) (4.67.1)\n",
            "Requirement already satisfied: typing-extensions<5,>=4.11 in /usr/local/lib/python3.11/dist-packages (from openai) (4.14.1)\n",
            "Requirement already satisfied: idna>=2.8 in /usr/local/lib/python3.11/dist-packages (from anyio<5,>=3.5.0->openai) (3.10)\n",
            "Requirement already satisfied: certifi in /usr/local/lib/python3.11/dist-packages (from httpx<1,>=0.23.0->openai) (2025.7.14)\n",
            "Requirement already satisfied: httpcore==1.* in /usr/local/lib/python3.11/dist-packages (from httpx<1,>=0.23.0->openai) (1.0.9)\n",
            "Requirement already satisfied: h11>=0.16 in /usr/local/lib/python3.11/dist-packages (from httpcore==1.*->httpx<1,>=0.23.0->openai) (0.16.0)\n",
            "Requirement already satisfied: annotated-types>=0.6.0 in /usr/local/lib/python3.11/dist-packages (from pydantic<3,>=1.9.0->openai) (0.7.0)\n",
            "Requirement already satisfied: pydantic-core==2.33.2 in /usr/local/lib/python3.11/dist-packages (from pydantic<3,>=1.9.0->openai) (2.33.2)\n",
            "Requirement already satisfied: typing-inspection>=0.4.0 in /usr/local/lib/python3.11/dist-packages (from pydantic<3,>=1.9.0->openai) (0.4.1)\n"
          ]
        }
      ],
      "source": [
        "!pip install openai\n"
      ]
    },
    {
      "cell_type": "code",
      "execution_count": null,
      "metadata": {
        "colab": {
          "base_uri": "https://localhost:8080/"
        },
        "id": "0rrJa_RYFJQt",
        "outputId": "c855426b-2675-45d7-be93-3c4f45caacf3"
      },
      "outputs": [
        {
          "name": "stdout",
          "output_type": "stream",
          "text": [
            "Requirement already satisfied: transformers in /usr/local/lib/python3.11/dist-packages (4.54.1)\n",
            "Requirement already satisfied: filelock in /usr/local/lib/python3.11/dist-packages (from transformers) (3.18.0)\n",
            "Requirement already satisfied: huggingface-hub<1.0,>=0.34.0 in /usr/local/lib/python3.11/dist-packages (from transformers) (0.34.1)\n",
            "Requirement already satisfied: numpy>=1.17 in /usr/local/lib/python3.11/dist-packages (from transformers) (2.0.2)\n",
            "Requirement already satisfied: packaging>=20.0 in /usr/local/lib/python3.11/dist-packages (from transformers) (25.0)\n",
            "Requirement already satisfied: pyyaml>=5.1 in /usr/local/lib/python3.11/dist-packages (from transformers) (6.0.2)\n",
            "Requirement already satisfied: regex!=2019.12.17 in /usr/local/lib/python3.11/dist-packages (from transformers) (2024.11.6)\n",
            "Requirement already satisfied: requests in /usr/local/lib/python3.11/dist-packages (from transformers) (2.32.3)\n",
            "Requirement already satisfied: tokenizers<0.22,>=0.21 in /usr/local/lib/python3.11/dist-packages (from transformers) (0.21.2)\n",
            "Requirement already satisfied: safetensors>=0.4.3 in /usr/local/lib/python3.11/dist-packages (from transformers) (0.5.3)\n",
            "Requirement already satisfied: tqdm>=4.27 in /usr/local/lib/python3.11/dist-packages (from transformers) (4.67.1)\n",
            "Requirement already satisfied: fsspec>=2023.5.0 in /usr/local/lib/python3.11/dist-packages (from huggingface-hub<1.0,>=0.34.0->transformers) (2025.3.0)\n",
            "Requirement already satisfied: typing-extensions>=3.7.4.3 in /usr/local/lib/python3.11/dist-packages (from huggingface-hub<1.0,>=0.34.0->transformers) (4.14.1)\n",
            "Requirement already satisfied: hf-xet<2.0.0,>=1.1.3 in /usr/local/lib/python3.11/dist-packages (from huggingface-hub<1.0,>=0.34.0->transformers) (1.1.5)\n",
            "Requirement already satisfied: charset-normalizer<4,>=2 in /usr/local/lib/python3.11/dist-packages (from requests->transformers) (3.4.2)\n",
            "Requirement already satisfied: idna<4,>=2.5 in /usr/local/lib/python3.11/dist-packages (from requests->transformers) (3.10)\n",
            "Requirement already satisfied: urllib3<3,>=1.21.1 in /usr/local/lib/python3.11/dist-packages (from requests->transformers) (2.5.0)\n",
            "Requirement already satisfied: certifi>=2017.4.17 in /usr/local/lib/python3.11/dist-packages (from requests->transformers) (2025.7.14)\n"
          ]
        }
      ],
      "source": [
        "!pip install transformers\n"
      ]
    },
    {
      "cell_type": "code",
      "execution_count": null,
      "metadata": {
        "colab": {
          "base_uri": "https://localhost:8080/"
        },
        "id": "6SIdAj8dC3_w",
        "outputId": "d10e7f84-a157-429f-a804-e9d66995ec8d"
      },
      "outputs": [
        {
          "name": "stderr",
          "output_type": "stream",
          "text": [
            "/usr/local/lib/python3.11/dist-packages/huggingface_hub/utils/_auth.py:94: UserWarning: \n",
            "The secret `HF_TOKEN` does not exist in your Colab secrets.\n",
            "To authenticate with the Hugging Face Hub, create a token in your settings tab (https://huggingface.co/settings/tokens), set it as secret in your Google Colab and restart your session.\n",
            "You will be able to reuse this secret in all of your notebooks.\n",
            "Please note that authentication is recommended but still optional to access public models or datasets.\n",
            "  warnings.warn(\n",
            "Device set to use cuda:0\n"
          ]
        }
      ],
      "source": [
        "from transformers import pipeline\n",
        "\n",
        "# Load the summarization model (can take a few seconds the first time)\n",
        "summarizer = pipeline(\"summarization\", model=\"facebook/bart-large-cnn\")\n",
        "\n",
        "def summarize_article(text):\n",
        "    # Hugging Face models can have a max token limit — trim long text\n",
        "    trimmed_text = text[:1024]\n",
        "\n",
        "    summary = summarizer(trimmed_text, max_length=130, min_length=30, do_sample=False)\n",
        "    return summary[0]['summary_text']\n"
      ]
    },
    {
      "cell_type": "code",
      "execution_count": null,
      "metadata": {
        "colab": {
          "base_uri": "https://localhost:8080/"
        },
        "id": "HInCn-A2C5j6",
        "outputId": "57256448-699e-4ef5-caed-bf251f349581"
      },
      "outputs": [
        {
          "name": "stdout",
          "output_type": "stream",
          "text": [
            "\n",
            "📰 Student Loan Breach Exposes 2.5M Records\n",
            "🔗 https://threatpost.com/student-loan-breach-exposes-2-5m-records/180492/\n",
            "\n",
            "📦 Entity Extraction:\n",
            "2.5 million → CARDINAL\n",
            "the Oklahoma Student Loan Authority → ORG\n",
            "over 2.5 million → CARDINAL\n",
            "Nelnet Servicing → ORG\n",
            "Lincoln → ORG\n",
            "Neb.-based → CARDINAL\n",
            "OSLA → ORG\n",
            "EdFinancial → ORG\n",
            "July 21, 2022 → DATE\n",
            "third → ORDINAL\n",
            "August 17th → DATE\n",
            "2,501,324 → CARDINAL\n",
            "Nelnet → ORG\n",
            "Bill Munn → PERSON\n",
            "Maine → GPE\n",
            "2022 → DATE\n",
            "July 22, 2022 → DATE\n",
            "July 21 → DATE\n",
            "August 17, 2022 → DATE\n",
            "July 21, 2022 → DATE\n",
            "Nelnet Servicing → ORG\n",
            "LLC → ORG\n",
            "Nelnet → ORG\n",
            "August 17, 2022 → DATE\n",
            "June 2022 → DATE\n",
            "July 22, 2022 → DATE\n",
            "Nelnet → ORG\n",
            "Melissa Bischoping → PERSON\n",
            "Tanium → ORG\n",
            "Last week → DATE\n",
            "Biden → PERSON\n",
            "10,000 → MONEY\n",
            "Nelnet Servicing → ORG\n",
            "Nelnet Servicing’s → ORG\n",
            "third → ORDINAL\n",
            "two years → DATE\n",
            "up to $1 million → MONEY\n",
            "\n",
            "📝 Auto Summary:\n",
            "2.5 million people were affected by the breach. Names, email addresses, phone numbers and social security numbers were exposed. The breach was discovered on August 17th.\n",
            "\n",
            "📰 Watering Hole Attacks Push ScanBox Keylogger\n",
            "🔗 https://threatpost.com/watering-hole-attacks-push-scanbox-keylogger/180490/\n",
            "\n",
            "📦 Entity Extraction:\n",
            "APT TA423 → ORG\n",
            "ScanBox → PERSON\n",
            "JavaScript → PRODUCT\n",
            "China → GPE\n",
            "ScanBox → PERSON\n",
            "Australian → NORP\n",
            "the South China Sea → LOC\n",
            "APT → ORG\n",
            "Australian → NORP\n",
            "April 2022 → DATE\n",
            "mid-June 2022 → DATE\n",
            "Tuesday → DATE\n",
            "Proofpoint’s Threat Research Team → ORG\n",
            "China → GPE\n",
            "APT TA423 → ORG\n",
            "Red Ladon → ORG\n",
            "TA423 / Red Ladon → ORG\n",
            "Hainan Island → GPE\n",
            "China → GPE\n",
            "APT → ORG\n",
            "2021 → CARDINAL\n",
            "the US Department of Justice → ORG\n",
            "TA423 / Red Ladon → ORG\n",
            "the Hainan Province Ministry of State Security → ORG\n",
            "MSS → ORG\n",
            "MSS → ORG\n",
            "the People’s Republic of China → GPE\n",
            "China → GPE\n",
            "Dusting Off → PERSON\n",
            "ScanBox → ORG\n",
            "ScanBox → PERSON\n",
            "ScanBox → PERSON\n",
            "Javascript → PERSON\n",
            "ScanBox → PERSON\n",
            "nearly a decade → DATE\n",
            "ScanBox → PERSON\n",
            "JavaScript → ORG\n",
            "PwC → ORG\n",
            "ScanBox → ORG\n",
            "JavaScript → ORG\n",
            "ScanBox → ORG\n",
            "TA423 → PRODUCT\n",
            "Sick Leave → WORK_OF_ART\n",
            "Request Cooperation → WORK_OF_ART\n",
            "the “Australian Morning News → EVENT\n",
            "ScanBox → PERSON\n",
            "BBC → ORG\n",
            "Sky News → ORG\n",
            "ScanBox → PERSON\n",
            "ScanBox → PERSON\n",
            "Adobe Flash → ORG\n",
            "ScanBox → PERSON\n",
            "WebRTC → LOC\n",
            "WebRTC → LOC\n",
            "RTC → ORG\n",
            "ScanBox → PERSON\n",
            "STUN → ORG\n",
            "NAT → ORG\n",
            "NAT → ORG\n",
            "STUN → ORG\n",
            "WebRTC → LOC\n",
            "third → ORDINAL\n",
            "STUN → ORG\n",
            "NAT → ORG\n",
            "IP → ORG\n",
            "NAT → ORG\n",
            "UDP → ORG\n",
            "ScanBox → PERSON\n",
            "NAT → ORG\n",
            "STUN → ORG\n",
            "Interactive Connectivity Establishment → ORG\n",
            "ScanBox → PERSON\n",
            "STUN → ORG\n",
            "NAT → ORG\n",
            "Chinese → NORP\n",
            "the South China Sea → LOC\n",
            "Taiwan → GPE\n",
            "Sherrod DeGrippo → PERSON\n",
            "Proofpoint → GPE\n",
            "Malaysia → GPE\n",
            "Singapore → GPE\n",
            "Taiwan → GPE\n",
            "Australia → GPE\n",
            "Australasia → GPE\n",
            "Department of Justice → ORG\n",
            "July → DATE\n",
            "2021 → DATE\n",
            "the United States → GPE\n",
            "Austria → GPE\n",
            "Cambodia → GPE\n",
            "Canada → GPE\n",
            "Germany → GPE\n",
            "Indonesia → GPE\n",
            "Malaysia → GPE\n",
            "Norway → GPE\n",
            "Saudi Arabia → GPE\n",
            "South Africa → GPE\n",
            "Switzerland → GPE\n",
            "the United Kingdom → GPE\n",
            "DoJ → ORG\n",
            "TA423 → PRODUCT\n",
            "TA423 / Red Ladon → ORG\n",
            "\n",
            "📝 Auto Summary:\n",
            "Researchers uncover a watering hole attack likely carried out by APT TA423, which attempts to plant the ScanBox JavaScript-based reconnaissance tool. Victims include domestic Australian organizations and offshore energy firms in the South China Sea.\n"
          ]
        }
      ],
      "source": [
        "for article in articles:\n",
        "    print(f\"\\n📰 {article['title']}\")\n",
        "    print(f\"🔗 {article['link']}\\n\")\n",
        "\n",
        "    text = article['text']\n",
        "    doc = nlp(text)\n",
        "    custom_entities = extract_custom_indicators(text)\n",
        "\n",
        "    print(\"📦 Entity Extraction:\")\n",
        "    for ent in doc.ents:\n",
        "        print(f\"{ent.text} → {ent.label_}\")\n",
        "    for label, matches in custom_entities.items():\n",
        "        for match in matches:\n",
        "            print(f\"{match} → {label}\")\n",
        "\n",
        "    print(\"\\n📝 Auto Summary:\")\n",
        "    try:\n",
        "        summary = summarize_article(text)\n",
        "        print(summary)\n",
        "    except Exception as e:\n",
        "        print(f\"❌ Summary error: {e}\")\n"
      ]
    },
    {
      "cell_type": "code",
      "execution_count": null,
      "metadata": {
        "colab": {
          "base_uri": "https://localhost:8080/"
        },
        "id": "eZm4aVMtC7Zz",
        "outputId": "d47fb474-269f-4707-f671-988e78c5f238"
      },
      "outputs": [
        {
          "name": "stdout",
          "output_type": "stream",
          "text": [
            "Drive already mounted at /content/drive; to attempt to forcibly remount, call drive.mount(\"/content/drive\", force_remount=True).\n"
          ]
        }
      ],
      "source": [
        "from google.colab import drive\n",
        "drive.mount('/content/drive')\n"
      ]
    },
    {
      "cell_type": "code",
      "execution_count": null,
      "metadata": {
        "id": "_a6nbTUfHC05"
      },
      "outputs": [],
      "source": [
        "import os\n",
        "\n",
        "def export_to_markdown(article, entities, summary, folder_path=\"/content/drive/MyDrive/CyberNERReports\"):\n",
        "    import os  # add this at the top of the cell if it's not already there\n",
        "\n",
        "    title = article['title']\n",
        "    link = article['link']\n",
        "    filename = f\"{title[:50].replace(' ', '_').replace('/', '_')}.md\"\n",
        "    filepath = os.path.join(folder_path, filename)\n",
        "\n",
        "    # ✅ Create the folder if it doesn't exist\n",
        "    os.makedirs(folder_path, exist_ok=True)\n",
        "\n",
        "    with open(filepath, 'w') as f:\n",
        "        f.write(f\"# {title}\\n\\n\")\n",
        "        f.write(f\"🔗 [Source Link]({link})\\n\\n\")\n",
        "\n",
        "        f.write(\"## 📦 Extracted Entities\\n\")\n",
        "        for label, values in entities.items():\n",
        "            if values:\n",
        "                f.write(f\"**{label}**: {', '.join(set(values))}\\n\\n\")\n",
        "\n",
        "        f.write(\"## 📝 Auto Summary\\n\")\n",
        "        f.write(summary.strip() + \"\\n\")\n",
        "\n",
        "    print(f\"✅ Saved report: {filepath}\")\n",
        "\n"
      ]
    },
    {
      "cell_type": "code",
      "execution_count": null,
      "metadata": {
        "id": "x7wjMheVHLMy"
      },
      "outputs": [],
      "source": [
        "from reportlab.platypus import SimpleDocTemplate, Paragraph, Spacer\n",
        "from reportlab.lib.styles import getSampleStyleSheet\n",
        "from reportlab.lib.pagesizes import A4\n",
        "import os\n",
        "\n",
        "def export_to_pdf(article, entities, summary, folder_path=\"/content/drive/MyDrive/CyberNERReports\"):\n",
        "    os.makedirs(folder_path, exist_ok=True)\n",
        "\n",
        "    title = article['title']\n",
        "    link = article['link']\n",
        "    filename = title.replace(\" \", \"_\").replace(\":\", \"\").replace(\"/\", \"_\") + \".pdf\"\n",
        "    filepath = os.path.join(folder_path, filename)\n",
        "\n",
        "    doc = SimpleDocTemplate(filepath, pagesize=A4)\n",
        "    styles = getSampleStyleSheet()\n",
        "    story = []\n",
        "\n",
        "    story.append(Paragraph(f\"<b>{title}</b>\", styles['Title']))\n",
        "    story.append(Spacer(1, 12))\n",
        "    story.append(Paragraph(f\"<a href='{link}'>{link}</a>\", styles['Normal']))\n",
        "    story.append(Spacer(1, 12))\n",
        "\n",
        "    story.append(Paragraph(\"<b>📦 Extracted Entities:</b>\", styles['Heading2']))\n",
        "    for label, items in entities.items():\n",
        "        story.append(Paragraph(f\"<b>{label}:</b> {', '.join(set(items))}\", styles['Normal']))\n",
        "        story.append(Spacer(1, 6))\n",
        "\n",
        "    story.append(Spacer(1, 12))\n",
        "    story.append(Paragraph(\"<b>📝 Summary:</b>\", styles['Heading2']))\n",
        "    story.append(Paragraph(summary, styles['Normal']))\n",
        "\n",
        "    doc.build(story)\n",
        "    print(f\"✅ Exported to PDF: {filepath}\")\n"
      ]
    },
    {
      "cell_type": "code",
      "execution_count": null,
      "metadata": {
        "id": "0pTzfgRVHM47"
      },
      "outputs": [],
      "source": [
        "!pip freeze > requirements.txt\n"
      ]
    },
    {
      "cell_type": "code",
      "execution_count": null,
      "metadata": {
        "id": "UoX2baVQLcoj"
      },
      "outputs": [],
      "source": [
        "!pip install reportlab\n"
      ]
    },
    {
      "cell_type": "code",
      "execution_count": null,
      "metadata": {
        "id": "CGT_aZvKWU7F"
      },
      "outputs": [],
      "source": [
        "from reportlab.platypus import SimpleDocTemplate, Paragraph, Spacer\n",
        "from reportlab.lib.styles import getSampleStyleSheet\n",
        "import os\n",
        "\n",
        "def export_to_pdf(article, entities, summary, folder_path=\"/content/drive/MyDrive/CyberNERReports\"):\n",
        "    title = article['title'].replace(\" \", \"_\").replace(\"/\", \"_\")\n",
        "    filename = f\"{title}.pdf\"\n",
        "    filepath = os.path.join(folder_path, filename)\n",
        "\n",
        "    doc = SimpleDocTemplate(filepath)\n",
        "    styles = getSampleStyleSheet()\n",
        "    story = []\n",
        "\n",
        "    story.append(Paragraph(f\"<b>{article['title']}</b>\", styles[\"Title\"]))\n",
        "    story.append(Paragraph(f\"<a href='{article['link']}'>{article['link']}</a>\", styles[\"Normal\"]))\n",
        "    story.append(Spacer(1, 12))\n",
        "\n",
        "    story.append(Paragraph(\"<b>📦 Entity Extraction:</b>\", styles[\"Heading2\"]))\n",
        "    for label, values in entities.items():\n",
        "        values_str = ', '.join(values) if values else \"None\"\n",
        "        story.append(Paragraph(f\"<b>{label}:</b> {values_str}\", styles[\"Normal\"]))\n",
        "        story.append(Spacer(1, 6))\n",
        "\n",
        "    story.append(Spacer(1, 12))\n",
        "    story.append(Paragraph(\"<b>📝 Auto Summary:</b>\", styles[\"Heading2\"]))\n",
        "    story.append(Paragraph(summary if summary else \"N/A\", styles[\"Normal\"]))\n",
        "\n",
        "    doc.build(story)\n",
        "    print(f\"✅ PDF saved to {filepath}\")\n"
      ]
    },
    {
      "cell_type": "code",
      "execution_count": null,
      "metadata": {
        "colab": {
          "base_uri": "https://localhost:8080/",
          "height": 452
        },
        "id": "QjREqZSIWYTL",
        "outputId": "f8e7fe7f-413c-4d3c-d134-00204d76d07d"
      },
      "outputs": [
        {
          "data": {
            "image/png": "[encoded data removed]",
            "text/plain": [
              "<Figure size 640x480 with 1 Axes>"
            ]
          },
          "metadata": {},
          "output_type": "display_data"
        }
      ],
      "source": [
        "import matplotlib.pyplot as plt\n",
        "from collections import Counter\n",
        "\n",
        "org_counts = Counter(all_entities['ORG'])\n",
        "plt.barh(*zip(*org_counts.most_common(10)))\n",
        "plt.title(\"Top Mentioned Organizations\")\n",
        "plt.show()\n"
      ]
    },
    {
      "cell_type": "code",
      "execution_count": null,
      "metadata": {
        "colab": {
          "base_uri": "https://localhost:8080/"
        },
        "id": "DBF_FDyuXWuH",
        "outputId": "71eeab32-8530-45cc-f771-9a9c48fc26e0"
      },
      "outputs": [
        {
          "name": "stdout",
          "output_type": "stream",
          "text": [
            "Requirement already satisfied: transformers in /usr/local/lib/python3.11/dist-packages (4.54.1)\n",
            "Requirement already satisfied: datasets in /usr/local/lib/python3.11/dist-packages (4.0.0)\n",
            "Requirement already satisfied: sentence-transformers in /usr/local/lib/python3.11/dist-packages (4.1.0)\n",
            "Requirement already satisfied: faiss-cpu in /usr/local/lib/python3.11/dist-packages (1.11.0.post1)\n",
            "Requirement already satisfied: filelock in /usr/local/lib/python3.11/dist-packages (from transformers) (3.18.0)\n",
            "Requirement already satisfied: huggingface-hub<1.0,>=0.34.0 in /usr/local/lib/python3.11/dist-packages (from transformers) (0.34.1)\n",
            "Requirement already satisfied: numpy>=1.17 in /usr/local/lib/python3.11/dist-packages (from transformers) (2.0.2)\n",
            "Requirement already satisfied: packaging>=20.0 in /usr/local/lib/python3.11/dist-packages (from transformers) (25.0)\n",
            "Requirement already satisfied: pyyaml>=5.1 in /usr/local/lib/python3.11/dist-packages (from transformers) (6.0.2)\n",
            "Requirement already satisfied: regex!=2019.12.17 in /usr/local/lib/python3.11/dist-packages (from transformers) (2024.11.6)\n",
            "Requirement already satisfied: requests in /usr/local/lib/python3.11/dist-packages (from transformers) (2.32.3)\n",
            "Requirement already satisfied: tokenizers<0.22,>=0.21 in /usr/local/lib/python3.11/dist-packages (from transformers) (0.21.2)\n",
            "Requirement already satisfied: safetensors>=0.4.3 in /usr/local/lib/python3.11/dist-packages (from transformers) (0.5.3)\n",
            "Requirement already satisfied: tqdm>=4.27 in /usr/local/lib/python3.11/dist-packages (from transformers) (4.67.1)\n",
            "Requirement already satisfied: pyarrow>=15.0.0 in /usr/local/lib/python3.11/dist-packages (from datasets) (18.1.0)\n",
            "Requirement already satisfied: dill<0.3.9,>=0.3.0 in /usr/local/lib/python3.11/dist-packages (from datasets) (0.3.8)\n",
            "Requirement already satisfied: pandas in /usr/local/lib/python3.11/dist-packages (from datasets) (2.2.2)\n",
            "Requirement already satisfied: xxhash in /usr/local/lib/python3.11/dist-packages (from datasets) (3.5.0)\n",
            "Requirement already satisfied: multiprocess<0.70.17 in /usr/local/lib/python3.11/dist-packages (from datasets) (0.70.16)\n",
            "Requirement already satisfied: fsspec<=2025.3.0,>=2023.1.0 in /usr/local/lib/python3.11/dist-packages (from fsspec[http]<=2025.3.0,>=2023.1.0->datasets) (2025.3.0)\n",
            "Requirement already satisfied: torch>=1.11.0 in /usr/local/lib/python3.11/dist-packages (from sentence-transformers) (2.6.0+cu124)\n",
            "Requirement already satisfied: scikit-learn in /usr/local/lib/python3.11/dist-packages (from sentence-transformers) (1.6.1)\n",
            "Requirement already satisfied: scipy in /usr/local/lib/python3.11/dist-packages (from sentence-transformers) (1.16.0)\n",
            "Requirement already satisfied: Pillow in /usr/local/lib/python3.11/dist-packages (from sentence-transformers) (11.3.0)\n",
            "Requirement already satisfied: typing_extensions>=4.5.0 in /usr/local/lib/python3.11/dist-packages (from sentence-transformers) (4.14.1)\n",
            "Requirement already satisfied: aiohttp!=4.0.0a0,!=4.0.0a1 in /usr/local/lib/python3.11/dist-packages (from fsspec[http]<=2025.3.0,>=2023.1.0->datasets) (3.12.14)\n",
            "Requirement already satisfied: hf-xet<2.0.0,>=1.1.3 in /usr/local/lib/python3.11/dist-packages (from huggingface-hub<1.0,>=0.34.0->transformers) (1.1.5)\n",
            "Requirement already satisfied: charset-normalizer<4,>=2 in /usr/local/lib/python3.11/dist-packages (from requests->transformers) (3.4.2)\n",
            "Requirement already satisfied: idna<4,>=2.5 in /usr/local/lib/python3.11/dist-packages (from requests->transformers) (3.10)\n",
            "Requirement already satisfied: urllib3<3,>=1.21.1 in /usr/local/lib/python3.11/dist-packages (from requests->transformers) (2.5.0)\n",
            "Requirement already satisfied: certifi>=2017.4.17 in /usr/local/lib/python3.11/dist-packages (from requests->transformers) (2025.7.14)\n",
            "Requirement already satisfied: networkx in /usr/local/lib/python3.11/dist-packages (from torch>=1.11.0->sentence-transformers) (3.5)\n",
            "Requirement already satisfied: jinja2 in /usr/local/lib/python3.11/dist-packages (from torch>=1.11.0->sentence-transformers) (3.1.6)\n",
            "Requirement already satisfied: nvidia-cuda-nvrtc-cu12==12.4.127 in /usr/local/lib/python3.11/dist-packages (from torch>=1.11.0->sentence-transformers) (12.4.127)\n",
            "Requirement already satisfied: nvidia-cuda-runtime-cu12==12.4.127 in /usr/local/lib/python3.11/dist-packages (from torch>=1.11.0->sentence-transformers) (12.4.127)\n",
            "Requirement already satisfied: nvidia-cuda-cupti-cu12==12.4.127 in /usr/local/lib/python3.11/dist-packages (from torch>=1.11.0->sentence-transformers) (12.4.127)\n",
            "Requirement already satisfied: nvidia-cudnn-cu12==9.1.0.70 in /usr/local/lib/python3.11/dist-packages (from torch>=1.11.0->sentence-transformers) (9.1.0.70)\n",
            "Requirement already satisfied: nvidia-cublas-cu12==12.4.5.8 in /usr/local/lib/python3.11/dist-packages (from torch>=1.11.0->sentence-transformers) (12.4.5.8)\n",
            "Requirement already satisfied: nvidia-cufft-cu12==11.2.1.3 in /usr/local/lib/python3.11/dist-packages (from torch>=1.11.0->sentence-transformers) (11.2.1.3)\n",
            "Requirement already satisfied: nvidia-curand-cu12==10.3.5.147 in /usr/local/lib/python3.11/dist-packages (from torch>=1.11.0->sentence-transformers) (10.3.5.147)\n",
            "Requirement already satisfied: nvidia-cusolver-cu12==11.6.1.9 in /usr/local/lib/python3.11/dist-packages (from torch>=1.11.0->sentence-transformers) (11.6.1.9)\n",
            "Requirement already satisfied: nvidia-cusparse-cu12==12.3.1.170 in /usr/local/lib/python3.11/dist-packages (from torch>=1.11.0->sentence-transformers) (12.3.1.170)\n",
            "Requirement already satisfied: nvidia-cusparselt-cu12==0.6.2 in /usr/local/lib/python3.11/dist-packages (from torch>=1.11.0->sentence-transformers) (0.6.2)\n",
            "Requirement already satisfied: nvidia-nccl-cu12==2.21.5 in /usr/local/lib/python3.11/dist-packages (from torch>=1.11.0->sentence-transformers) (2.21.5)\n",
            "Requirement already satisfied: nvidia-nvtx-cu12==12.4.127 in /usr/local/lib/python3.11/dist-packages (from torch>=1.11.0->sentence-transformers) (12.4.127)\n",
            "Requirement already satisfied: nvidia-nvjitlink-cu12==12.4.127 in /usr/local/lib/python3.11/dist-packages (from torch>=1.11.0->sentence-transformers) (12.4.127)\n",
            "Requirement already satisfied: triton==3.2.0 in /usr/local/lib/python3.11/dist-packages (from torch>=1.11.0->sentence-transformers) (3.2.0)\n",
            "Requirement already satisfied: sympy==1.13.1 in /usr/local/lib/python3.11/dist-packages (from torch>=1.11.0->sentence-transformers) (1.13.1)\n",
            "Requirement already satisfied: mpmath<1.4,>=1.1.0 in /usr/local/lib/python3.11/dist-packages (from sympy==1.13.1->torch>=1.11.0->sentence-transformers) (1.3.0)\n",
            "Requirement already satisfied: python-dateutil>=2.8.2 in /usr/local/lib/python3.11/dist-packages (from pandas->datasets) (2.9.0.post0)\n",
            "Requirement already satisfied: pytz>=2020.1 in /usr/local/lib/python3.11/dist-packages (from pandas->datasets) (2025.2)\n",
            "Requirement already satisfied: tzdata>=2022.7 in /usr/local/lib/python3.11/dist-packages (from pandas->datasets) (2025.2)\n",
            "Requirement already satisfied: joblib>=1.2.0 in /usr/local/lib/python3.11/dist-packages (from scikit-learn->sentence-transformers) (1.5.1)\n",
            "Requirement already satisfied: threadpoolctl>=3.1.0 in /usr/local/lib/python3.11/dist-packages (from scikit-learn->sentence-transformers) (3.6.0)\n",
            "Requirement already satisfied: aiohappyeyeballs>=2.5.0 in /usr/local/lib/python3.11/dist-packages (from aiohttp!=4.0.0a0,!=4.0.0a1->fsspec[http]<=2025.3.0,>=2023.1.0->datasets) (2.6.1)\n",
            "Requirement already satisfied: aiosignal>=1.4.0 in /usr/local/lib/python3.11/dist-packages (from aiohttp!=4.0.0a0,!=4.0.0a1->fsspec[http]<=2025.3.0,>=2023.1.0->datasets) (1.4.0)\n",
            "Requirement already satisfied: attrs>=17.3.0 in /usr/local/lib/python3.11/dist-packages (from aiohttp!=4.0.0a0,!=4.0.0a1->fsspec[http]<=2025.3.0,>=2023.1.0->datasets) (25.3.0)\n",
            "Requirement already satisfied: frozenlist>=1.1.1 in /usr/local/lib/python3.11/dist-packages (from aiohttp!=4.0.0a0,!=4.0.0a1->fsspec[http]<=2025.3.0,>=2023.1.0->datasets) (1.7.0)\n",
            "Requirement already satisfied: multidict<7.0,>=4.5 in /usr/local/lib/python3.11/dist-packages (from aiohttp!=4.0.0a0,!=4.0.0a1->fsspec[http]<=2025.3.0,>=2023.1.0->datasets) (6.6.3)\n",
            "Requirement already satisfied: propcache>=0.2.0 in /usr/local/lib/python3.11/dist-packages (from aiohttp!=4.0.0a0,!=4.0.0a1->fsspec[http]<=2025.3.0,>=2023.1.0->datasets) (0.3.2)\n",
            "Requirement already satisfied: yarl<2.0,>=1.17.0 in /usr/local/lib/python3.11/dist-packages (from aiohttp!=4.0.0a0,!=4.0.0a1->fsspec[http]<=2025.3.0,>=2023.1.0->datasets) (1.20.1)\n",
            "Requirement already satisfied: six>=1.5 in /usr/local/lib/python3.11/dist-packages (from python-dateutil>=2.8.2->pandas->datasets) (1.17.0)\n",
            "Requirement already satisfied: MarkupSafe>=2.0 in /usr/local/lib/python3.11/dist-packages (from jinja2->torch>=1.11.0->sentence-transformers) (3.0.2)\n"
          ]
        }
      ],
      "source": [
        "!pip install transformers datasets sentence-transformers faiss-cpu\n"
      ]
    },
    {
      "cell_type": "code",
      "execution_count": null,
      "metadata": {
        "colab": {
          "background_save": true,
          "base_uri": "https://localhost:8080/"
        },
        "id": "Qai0i7uPeFrS",
        "outputId": "5507536f-cffe-4d2e-c08d-13dd9915e002"
      },
      "outputs": [
        {
          "name": "stderr",
          "output_type": "stream",
          "text": [
            "Device set to use cuda:0\n"
          ]
        },
        {
          "name": "stdout",
          "output_type": "stream",
          "text": [
            "\n",
            "🔗 Matched Document: Okta Breach\n",
            "\n",
            "📖 Context:\n",
            "Hackers breached Okta’s support case management system. The attackers were able\n",
            "to view uploaded HTTP Archive files containing session tokens.\n",
            "\n",
            "❓ Q: What do you do?\n",
            "✅ A: breached Okta’s support case management system\n"
          ]
        }
      ],
      "source": [
        "\n",
        "from sentence_transformers import SentenceTransformer\n",
        "from transformers import pipeline\n",
        "import numpy as np\n",
        "import faiss\n",
        "import textwrap\n",
        "\n",
        "# 🧠 1. Load QA model\n",
        "qa = pipeline(\"question-answering\", model=\"deepset/roberta-base-squad2\")\n",
        "\n",
        "# 📚 2. Sample documents (you can expand this or load from files)\n",
        "docs = [\n",
        "    {\n",
        "        \"title\": \"Student Loan Breach\",\n",
        "        \"content\": \"Over 2.5 million people were affected by the breach. Names, email addresses, phone numbers and social security numbers were exposed. The breach was discovered on August 17th.\"\n",
        "    },\n",
        "    {\n",
        "        \"title\": \"ScanBox Keylogger\",\n",
        "        \"content\": \"APT TA423 used watering hole attacks to distribute the ScanBox keylogger across Southeast Asia. The malware collected browser data and system info and was linked to China.\"\n",
        "    },\n",
        "    {\n",
        "        \"title\": \"Okta Breach\",\n",
        "        \"content\": \"Hackers breached Okta’s support case management system. The attackers were able to view uploaded HTTP Archive files containing session tokens.\"\n",
        "    }\n",
        "]\n",
        "\n",
        "# 🔍 3. Embeddings + FAISS\n",
        "embedder = SentenceTransformer(\"all-MiniLM-L6-v2\")\n",
        "doc_texts = [d['content'] for d in docs]\n",
        "doc_embeddings = embedder.encode(doc_texts)\n",
        "index = faiss.IndexFlatL2(doc_embeddings[0].shape[0])\n",
        "index.add(np.array(doc_embeddings))\n",
        "\n",
        "# 🔁 4. Ask in real-time\n",
        "def ask(question):\n",
        "    q_embed = embedder.encode([question])\n",
        "    _, I = index.search(q_embed, k=1)\n",
        "    top_doc = docs[I[0][0]]\n",
        "\n",
        "    print(f\"\\n🔗 Matched Document: {top_doc['title']}\")\n",
        "    print(f\"\\n📖 Context:\\n{textwrap.fill(top_doc['content'], 80)}\")\n",
        "\n",
        "    result = qa(question=question, context=top_doc['content'])\n",
        "    print(f\"\\n❓ Q: {question}\")\n",
        "    print(f\"✅ A: {result['answer']}\")\n",
        "\n",
        "# 🗣️ 5. Interactive loop\n",
        "while True:\n",
        "    try:\n",
        "        q = input(\"\\nAsk a cybersecurity question (or type 'exit'): \")\n",
        "        if q.lower() in ['exit', 'quit']:\n",
        "            break\n",
        "        ask(q)\n",
        "    except KeyboardInterrupt:\n",
        "        break\n"
      ]
    },
    {
      "cell_type": "code",
      "source": [],
      "metadata": {
        "id": "G-D8gDi2vWom"
      },
      "execution_count": null,
      "outputs": []
    }
  ],
  "metadata": {
    "accelerator": "GPU",
    "colab": {
      "gpuType": "T4",
      "provenance": []
    },
    "kernelspec": {
      "display_name": "Python 3",
      "name": "python3"
    },
    "language_info": {
      "name": "python"
    }
  },
  "nbformat": 4,
  "nbformat_minor": 0
}